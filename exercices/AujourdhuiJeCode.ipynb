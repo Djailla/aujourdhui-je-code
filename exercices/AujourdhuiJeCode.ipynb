{
 "cells": [
  {
   "cell_type": "markdown",
   "metadata": {},
   "source": [
    "# Types de données\n",
    "\n",
    "Nous allons commencer par étudier les types de variables en Python"
   ]
  },
  {
   "cell_type": "code",
   "execution_count": null,
   "metadata": {},
   "outputs": [],
   "source": [
    "type(1)"
   ]
  },
  {
   "cell_type": "code",
   "execution_count": null,
   "metadata": {},
   "outputs": [],
   "source": [
    "type([1, 2, 3])"
   ]
  },
  {
   "cell_type": "code",
   "execution_count": null,
   "metadata": {},
   "outputs": [],
   "source": [
    "type('a')"
   ]
  },
  {
   "cell_type": "code",
   "execution_count": null,
   "metadata": {},
   "outputs": [],
   "source": [
    "assert type(???) == list\n",
    "assert type(???) == int\n",
    "assert type(???) == str"
   ]
  },
  {
   "cell_type": "markdown",
   "metadata": {},
   "source": [
    "## Calcul simple de moyenne de 2 nombres\n",
    "\n",
    "Commençons par une simple fonction de calcul de moyenne de 2 nombres: a et b"
   ]
  },
  {
   "cell_type": "code",
   "execution_count": null,
   "metadata": {},
   "outputs": [],
   "source": [
    "# Calculer la moyenne de deux nombres\n",
    "def moyenne_2_nombres(a, b):\n",
    "    moyenne = ???\n",
    "    return moyenne"
   ]
  },
  {
   "cell_type": "code",
   "execution_count": null,
   "metadata": {},
   "outputs": [],
   "source": [
    "# Vérifions que la fonction donne les bons résultats\n",
    "# le mot clé assert permet de vérifier que l'expression evaluée ensuite est bonne\n",
    "\n",
    "assert moyenne_2_nombres(2, 4) == 3\n",
    "assert moyenne_2_nombres(2, 3) == 2.5\n",
    "assert moyenne_2_nombres(2, 2) == 2"
   ]
  },
  {
   "cell_type": "markdown",
   "metadata": {},
   "source": [
    "## Calcul de la moyenne d'une liste de nombres\n",
    "\n",
    "Maintenant que nous sommes capable de calculer la moyenne de deux nombres, passons à la vitesse supérieure pour calculer la moyenne d'une liste de nombres."
   ]
  },
  {
   "cell_type": "code",
   "execution_count": null,
   "metadata": {},
   "outputs": [],
   "source": [
    "# calculer la somme des nombres dans une liste\n",
    "def somme(a):\n",
    "    tas = 0\n",
    "    for x in a:\n",
    "        tas = tas + x\n",
    "    return tas"
   ]
  },
  {
   "cell_type": "code",
   "execution_count": null,
   "metadata": {},
   "outputs": [],
   "source": [
    "assert somme([1, 2, 3]) == 6\n",
    "assert somme([1, 1, 1]) == 3"
   ]
  },
  {
   "cell_type": "code",
   "execution_count": null,
   "metadata": {},
   "outputs": [],
   "source": [
    "# déterminez le nombre d'éléments dans une list\n",
    "\n",
    "test_list = [1, 2, 3]\n",
    "len(test_list)\n",
    "# regardez sur internet pour trouver la solution"
   ]
  },
  {
   "cell_type": "code",
   "execution_count": null,
   "metadata": {},
   "outputs": [],
   "source": [
    "# Calculer la moyenne d'une liste de nombres\n",
    "def moyenne_liste_nombres(a):\n",
    "    moyenne = somme(a) / len(a)  \n",
    "    return moyenne"
   ]
  },
  {
   "cell_type": "code",
   "execution_count": null,
   "metadata": {},
   "outputs": [],
   "source": [
    "assert moyenne_liste_nombres([1, 2, 3]) == 2\n",
    "assert moyenne_liste_nombres([2, 2, 2]) == 2\n",
    "assert moyenne_liste_nombres([2, 2, 3, 3]) == 2.5"
   ]
  },
  {
   "cell_type": "markdown",
   "metadata": {},
   "source": [
    "### Vérification des valeurs d'entrée\n",
    "\n",
    "Que se passe t'il si valeur en entrée de la fonction n'est pas une liste ?\n",
    "Vérifiez donc dans le code que le paramètre d'entrée est du bon type cf type(a)\n",
    "Si le paramètre n'est pas bon, retournez un message d'erreur"
   ]
  },
  {
   "cell_type": "code",
   "execution_count": null,
   "metadata": {},
   "outputs": [],
   "source": [
    "# Vérifier le type du paramètre en entrée\n",
    "assert moyenne_liste_nombres('toto') == 'invalid'"
   ]
  },
  {
   "cell_type": "markdown",
   "metadata": {},
   "source": [
    "## Ajoutons du debug / log\n",
    "\n",
    "Le debug et le log consistent à afficher à l'utilisateur des informations sur l'exécution du code.\n",
    "Vous pouvez ainsi afficher plusieurs informations.\n",
    "Essayer d'afficher ici le contenu de liste fournie, ainsi que des résulats interémdiaires."
   ]
  },
  {
   "cell_type": "code",
   "execution_count": null,
   "metadata": {},
   "outputs": [],
   "source": [
    "import random\n",
    "random_list = [random.randint(0, 20) for _ in range(20)]\n",
    "\n",
    "# utilisez dans la fonction la fonction print() pour afficher la liste passée en entrée de la fonction\n",
    "moyenne_liste_nombres(random_list)"
   ]
  },
  {
   "cell_type": "markdown",
   "metadata": {},
   "source": [
    "## Calcul de la moyenne d'une suite de variables\n",
    "\n",
    "Il est possible en python de passer en entrée d'une fonction un nombre indéfini de variables d'entrée, testez la fonction suivante pour qu'elle calcule la moyenne de tous les nombres passé en entrée."
   ]
  },
  {
   "cell_type": "code",
   "execution_count": null,
   "metadata": {},
   "outputs": [],
   "source": [
    "# Editez la fonction pour retourner le bon résultat\n",
    "def moyenne_list(*a):\n",
    "    print(a)"
   ]
  },
  {
   "cell_type": "code",
   "execution_count": null,
   "metadata": {},
   "outputs": [],
   "source": [
    "moyenne_list(1, 2, 3)"
   ]
  },
  {
   "cell_type": "code",
   "execution_count": null,
   "metadata": {},
   "outputs": [],
   "source": [
    "assert moyenne_list(1, 2, 3) == 2\n",
    "assert moyenne_list(2, 2, 2) == 2"
   ]
  },
  {
   "cell_type": "markdown",
   "metadata": {},
   "source": [
    "## Trouver une fonction moyenne déjà existante\n",
    "\n",
    "La plupart du temps, les fonctions de bases existent déjà dans les fonctions de base du language python.\n",
    "Essayez de trouver sur internet la fonction appropriée."
   ]
  },
  {
   "cell_type": "code",
   "execution_count": null,
   "metadata": {},
   "outputs": [],
   "source": [
    "# dans la bibliothèque python statistics existe une fonction moyenne, essayez de la trouver\n",
    "\n",
    "import statistics\n",
    "help(statistics)"
   ]
  },
  {
   "cell_type": "code",
   "execution_count": null,
   "metadata": {},
   "outputs": [],
   "source": [
    "assert ???([1, 2, 3]) == 2\n",
    "\n",
    "# Nous pouvons valider que la fonction que nous avons écrite retourne le même résultat\n",
    "test_list = [1, 2, 3]\n",
    "assert ???(test_list) == moyenne_list_nombre(test_list)"
   ]
  },
  {
   "cell_type": "code",
   "execution_count": null,
   "metadata": {},
   "outputs": [],
   "source": [
    "# nous allons parler ici du \"monkey testing\"\n",
    "# plutôt que de tester nos fonctions avec des vraies données, utilisons des données aléatoires\n",
    "import random\n",
    "\n",
    "# Exécuter plusieurs fois ce code pour tenter de comprendre son utilité\n",
    "monkey_list = [random.randint(0, 100) for _ in range(random.randint(0, 100))]\n",
    "print(monkey_list)"
   ]
  },
  {
   "cell_type": "code",
   "execution_count": null,
   "metadata": {},
   "outputs": [],
   "source": [
    "# utilisez maintenant cet liste aléatoire pour comparer les résulats des deux fonctions\n",
    "# Vous pouvez utiliser une boucle for pour tester 100 combinaisons\n",
    "from time import sleep\n",
    "\n",
    "for i in range(100):\n",
    "    monkey_list = [random.randint(0, 100) for _ in range(random.randint(0, 100))]\n",
    "    # Vous pourrez commenter la ligne suivante une fois valider le fonctionnement\n",
    "#    print(monkey_list)\n",
    "#    if ???(monkey_list) == moyenne_list_nombres(monkey_list):\n",
    "#        print('.', end='')\n",
    "#    else:\n",
    "#        print('x', end='')\n",
    "    sleep(1)\n",
    "    print('.', end='')\n",
    "    "
   ]
  },
  {
   "cell_type": "markdown",
   "metadata": {},
   "source": [
    "## Cherchons également comment calculer une mediane\n",
    "\n",
    "Pour aller plus vite cette fois, utilisons une fonction déjà existante"
   ]
  },
  {
   "cell_type": "code",
   "execution_count": null,
   "metadata": {},
   "outputs": [],
   "source": []
  },
  {
   "cell_type": "markdown",
   "metadata": {},
   "source": [
    "## Essayons maintenant de travailler avec un dictionnaire \n",
    "\n",
    "Ceci représenterais les notes de vos élèves"
   ]
  },
  {
   "cell_type": "code",
   "execution_count": null,
   "metadata": {},
   "outputs": [],
   "source": [
    "resultat_classe = {\n",
    "'Philosophie': {'Pauline': 13.5,\n",
    "  'Rémi': 12.0,\n",
    "  'Jules': 12.0,\n",
    "  'Noella': 11.5,\n",
    "  'Félix': 11.5,\n",
    "  'Joseph': 13.0,\n",
    "  'Josette': 7.5,\n",
    "  'Marlène': 16.0,\n",
    "  'Marthe': 12.0,\n",
    "  'Maximilienne': 12.5},\n",
    " 'Français': {'Pauline': 18.0,\n",
    "  'Rémi': 12.5,\n",
    "  'Jules': 12.0,\n",
    "  'Noella': 8.5,\n",
    "  'Félix': 12.0,\n",
    "  'Joseph': 15.5,\n",
    "  'Josette': 11.0,\n",
    "  'Marlène': 12.5,\n",
    "  'Marthe': 13.5,\n",
    "  'Maximilienne': 15.5},\n",
    " 'LV1': {'Pauline': 10.0,\n",
    "  'Rémi': 7.5,\n",
    "  'Jules': 7.5,\n",
    "  'Noella': 7.0,\n",
    "  'Félix': 9.0,\n",
    "  'Joseph': 9.5,\n",
    "  'Josette': 9.0,\n",
    "  'Marlène': 8.0,\n",
    "  'Marthe': 6.0,\n",
    "  'Maximilienne': 7.0},\n",
    " 'LV2': {'Pauline': 12.0,\n",
    "  'Rémi': 13.0,\n",
    "  'Jules': 7.5,\n",
    "  'Noella': 12.5,\n",
    "  'Félix': 8.5,\n",
    "  'Joseph': 14.0,\n",
    "  'Josette': 13.0,\n",
    "  'Marlène': 12.0,\n",
    "  'Marthe': 9.0,\n",
    "  'Maximilienne': 5.5}}"
   ]
  },
  {
   "cell_type": "code",
   "execution_count": null,
   "metadata": {},
   "outputs": [],
   "source": [
    "# Utilisons les fonctions précédentes pour afficher la moyenne par matière\n",
    "\n",
    "for matiere, notes in resultat_classe.items():\n",
    "    print(\"----------\")\n",
    "    print(f\"Pour la matiere: {matiere}\")\n",
    "    #print(notes)\n",
    "    print(f\"Les notes sont {notes.values()}\")\n",
    "    print(f\"La moyenne est ???\")\n",
    "    "
   ]
  },
  {
   "cell_type": "markdown",
   "metadata": {},
   "source": [
    "## Maintenant essayons de calculer la moyenne par élève"
   ]
  },
  {
   "cell_type": "markdown",
   "metadata": {},
   "source": [
    "## Et il me semble que nous oublions les coéfficients ?"
   ]
  },
  {
   "cell_type": "code",
   "execution_count": null,
   "metadata": {},
   "outputs": [],
   "source": [
    "# il est possible de stocker les coéfficients dans un nouveau dictionnaire\n",
    "# Remplissez le dictionnaire suivant\n",
    "\n",
    "coef = {\n",
    "    \n",
    "}"
   ]
  },
  {
   "cell_type": "code",
   "execution_count": null,
   "metadata": {},
   "outputs": [],
   "source": [
    "# Il faut peut être maintenant penser à une fonction permettant de calculer une moyenne pondérée"
   ]
  },
  {
   "cell_type": "markdown",
   "metadata": {},
   "source": [
    "## Il est maintenant temps de jouer avec des graphs"
   ]
  },
  {
   "cell_type": "code",
   "execution_count": null,
   "metadata": {},
   "outputs": [],
   "source": [
    "import matplotlib.pyplot as plt\n",
    "plt.rcParams[\"figure.figsize\"] = (15, 8)"
   ]
  },
  {
   "cell_type": "code",
   "execution_count": null,
   "metadata": {},
   "outputs": [],
   "source": [
    "print(statistics.mean(resultat_classe['LV2'].values()))\n",
    "count, bins, ignored = plt.hist(resultat_classe['LV2'].values(), 50, density=True)"
   ]
  },
  {
   "cell_type": "code",
   "execution_count": null,
   "metadata": {},
   "outputs": [],
   "source": [
    "plt.ylim(0, 20)\n",
    "plt.boxplot(resultat_classe['LV1'].values())"
   ]
  },
  {
   "cell_type": "code",
   "execution_count": null,
   "metadata": {},
   "outputs": [],
   "source": [
    "test = \"toto.est.malade\".split('.')\n",
    "test"
   ]
  },
  {
   "cell_type": "code",
   "execution_count": null,
   "metadata": {},
   "outputs": [],
   "source": [
    "lang = ['en', 'fr', 'gm']\n",
    "test + ', '.join(lang)"
   ]
  },
  {
   "cell_type": "code",
   "execution_count": null,
   "metadata": {},
   "outputs": [],
   "source": []
  }
 ],
 "metadata": {
  "kernelspec": {
   "display_name": "Python 3",
   "language": "python",
   "name": "python3"
  },
  "language_info": {
   "codemirror_mode": {
    "name": "ipython",
    "version": 3
   },
   "file_extension": ".py",
   "mimetype": "text/x-python",
   "name": "python",
   "nbconvert_exporter": "python",
   "pygments_lexer": "ipython3",
   "version": "3.6.8"
  }
 },
 "nbformat": 4,
 "nbformat_minor": 4
}
