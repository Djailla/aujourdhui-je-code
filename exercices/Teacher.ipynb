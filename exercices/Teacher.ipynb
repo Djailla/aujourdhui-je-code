{
 "cells": [
  {
   "cell_type": "code",
   "execution_count": null,
   "metadata": {},
   "outputs": [],
   "source": [
    "import numpy as np"
   ]
  },
  {
   "cell_type": "code",
   "execution_count": null,
   "metadata": {},
   "outputs": [],
   "source": [
    "def grade_round(x):\n",
    "    return .5 * round(x / .5)"
   ]
  },
  {
   "cell_type": "code",
   "execution_count": null,
   "metadata": {},
   "outputs": [],
   "source": [
    "import random\n",
    "\n",
    "def get_random_grades(students):\n",
    "    mu = random.randint(8, 14)\n",
    "    sigma = random.uniform(.5, 3)\n",
    "    grades = [grade_round(x) for x in np.random.normal(mu, sigma, len(students))]\n",
    "    return {\n",
    "        students[i]: grades[i] for i in range(len(students))\n",
    "    }"
   ]
  },
  {
   "cell_type": "code",
   "execution_count": null,
   "metadata": {},
   "outputs": [],
   "source": [
    "import matplotlib.pyplot as plt"
   ]
  },
  {
   "cell_type": "code",
   "execution_count": null,
   "metadata": {},
   "outputs": [],
   "source": [
    "students = [\n",
    "    'Pauline', 'Rémi', 'Jules', 'Noella', 'Félix',\n",
    "    'Joseph', 'Josette', 'Marlène', 'Marthe', 'Maximilienne',\n",
    "#    'Éliane', 'Constant', 'David', 'Nathanaël', 'Éric',\n",
    "#    'Bernadette', 'Bertille', 'Adeline', 'Florence', 'Monique',\n",
    "#    'Denise', 'Laurette', 'Odette', 'Cornélie', 'Philibert',\n",
    "#    'Juliette', 'Jasmine', 'Louane', 'Athénaïs', 'Georgine',\n",
    "#    'Ariane', 'Achille', 'Gérard', 'Claire', 'Anthelme'\n",
    "]\n",
    "subjects = [\n",
    "    'Philosophie',\n",
    "    'Français',\n",
    "    'LV1',\n",
    "    'LV2',\n",
    "#    'Histoire/Geo',\n",
    "#    'Maths',\n",
    "#    'SVT',\n",
    "#    'Physique/Chimie',\n",
    "#    'EPS',\n",
    "]\n",
    "notes = {\n",
    "    s: get_random_grades(students) for s in subjects\n",
    "}"
   ]
  },
  {
   "cell_type": "code",
   "execution_count": null,
   "metadata": {},
   "outputs": [],
   "source": [
    "notes"
   ]
  },
  {
   "cell_type": "code",
   "execution_count": null,
   "metadata": {},
   "outputs": [],
   "source": [
    "with open('foo.csv', 'w') as fp:\n",
    "    fp.write('Nom,' + ','.join(notes.keys()) + '\\n')\n",
    "    for i in range(len(students)):\n",
    "        fp.write(students[i] + ',')\n",
    "        for subject in subjects:\n",
    "            fp.write(str(notes[subject][i]) + ',')\n",
    "        fp.write('\\n')  "
   ]
  },
  {
   "cell_type": "code",
   "execution_count": null,
   "metadata": {},
   "outputs": [],
   "source": [
    "count, bins, ignored = plt.hist(notes['EPS'], 50, density=True)"
   ]
  },
  {
   "cell_type": "code",
   "execution_count": null,
   "metadata": {},
   "outputs": [],
   "source": [
    "plt.ylim(0, 20)\n",
    "plt.rcParams[\"figure.figsize\"] = (15, 8)\n",
    "plt.boxplot(notes['Français'])\n",
    "plt.show()"
   ]
  },
  {
   "cell_type": "code",
   "execution_count": null,
   "metadata": {},
   "outputs": [],
   "source": [
    "count, bins, ignored = plt.hist([np.mean(get_random_grades()) for _ in range(20)])\n"
   ]
  },
  {
   "cell_type": "code",
   "execution_count": null,
   "metadata": {},
   "outputs": [],
   "source": []
  }
 ],
 "metadata": {
  "kernelspec": {
   "display_name": "Python 3",
   "language": "python",
   "name": "python3"
  },
  "language_info": {
   "codemirror_mode": {
    "name": "ipython",
    "version": 3
   },
   "file_extension": ".py",
   "mimetype": "text/x-python",
   "name": "python",
   "nbconvert_exporter": "python",
   "pygments_lexer": "ipython3",
   "version": "3.7.3"
  }
 },
 "nbformat": 4,
 "nbformat_minor": 2
}
