{
 "cells": [
  {
   "cell_type": "markdown",
   "metadata": {},
   "source": [
    "# Types de données\n",
    "\n",
    "Nous allons commencer par étudier les types de variables en Python"
   ]
  },
  {
   "cell_type": "code",
   "execution_count": null,
   "metadata": {},
   "outputs": [],
   "source": [
    "type(1)"
   ]
  },
  {
   "cell_type": "code",
   "execution_count": null,
   "metadata": {},
   "outputs": [],
   "source": [
    "type('a')"
   ]
  },
  {
   "cell_type": "code",
   "execution_count": null,
   "metadata": {},
   "outputs": [],
   "source": [
    "assert type(???) == list\n",
    "assert type(???) == int\n",
    "assert type(???) == str"
   ]
  },
  {
   "cell_type": "markdown",
   "metadata": {},
   "source": [
    "## Calcul simple de moyenne de 2 nombres\n",
    "\n",
    "Commençons par une simple fonction de calcul de moyenne de 2 nombres: a et b"
   ]
  },
  {
   "cell_type": "code",
   "execution_count": null,
   "metadata": {},
   "outputs": [],
   "source": [
    "# Calculer la moyenne de deux nombres\n",
    "def moyenne_2_nombres(a, b):\n",
    "    moyenne = ???\n",
    "    return moyenne"
   ]
  },
  {
   "cell_type": "code",
   "execution_count": null,
   "metadata": {},
   "outputs": [],
   "source": [
    "# Vérifions que la fonction donne les bons résultats\n",
    "# le mot clé assert permet de vérifier que l'expression evaluée ensuite est bonne\n",
    "\n",
    "assert moyenne_2_nombres(2, 4) == 3\n",
    "assert moyenne_2_nombres(2, 3) == 2.5\n",
    "assert moyenne_2_nombres(2, 2) == 2"
   ]
  },
  {
   "cell_type": "markdown",
   "metadata": {},
   "source": [
    "## Calcul de la moyenne d'une liste de nombres\n",
    "\n",
    "Maintenant que nous sommes capable de calculer la moyenne de deux nombres, passons à la vitesse supérieure pour calculer la moyenne d'une liste de nombres."
   ]
  },
  {
   "cell_type": "code",
   "execution_count": null,
   "metadata": {},
   "outputs": [],
   "source": [
    "# calculer la somme des nombres dans une liste\n",
    "def somme(a):\n",
    "    return"
   ]
  },
  {
   "cell_type": "code",
   "execution_count": null,
   "metadata": {},
   "outputs": [],
   "source": [
    "assert somme([1, 2, 3]) == 6\n",
    "assert somme([1, 1, 1]) == 3"
   ]
  },
  {
   "cell_type": "code",
   "execution_count": null,
   "metadata": {},
   "outputs": [],
   "source": [
    "# déterminez le nombre d'éléments dans une list\n",
    "\n",
    "test_list = [1, 2, 3]\n",
    "\n",
    "# regardez sur internet pour trouver la solution"
   ]
  },
  {
   "cell_type": "code",
   "execution_count": null,
   "metadata": {},
   "outputs": [],
   "source": [
    "# Calculer la moyenne d'une liste de nombres\n",
    "def moyenne_liste_nombres(a):\n",
    "    somme = ???\n",
    "    nb_elem = ???\n",
    "    moyenne = ???\n",
    "    return moyenne"
   ]
  },
  {
   "cell_type": "code",
   "execution_count": null,
   "metadata": {},
   "outputs": [],
   "source": [
    "assert moyenne_liste_nombres([1, 2, 3]) == 2\n",
    "assert moyenne_liste_nombres([2, 2, 2]) == 2\n",
    "assert moyenne_liste_nombres([2, 2, 3, 3]) == 2.5"
   ]
  },
  {
   "cell_type": "markdown",
   "metadata": {},
   "source": [
    "### Vérification des valeurs d'entrée\n",
    "\n",
    "Que se passe t'il si valeur en entrée de la fonction n'est pas une liste ?\n",
    "Vérifiez donc dans le code que le paramètre d'entrée est du bon type cf type(a)\n",
    "Si le paramètre n'est pas bon, retournez un message d'erreur"
   ]
  },
  {
   "cell_type": "code",
   "execution_count": null,
   "metadata": {},
   "outputs": [],
   "source": [
    "# Vérifier le type du paramètre en entrée\n",
    "assert moyenne_liste_nombres('toto') == 'invalid'"
   ]
  },
  {
   "cell_type": "markdown",
   "metadata": {},
   "source": [
    "## Ajoutons du debug / log\n",
    "\n",
    "Le debug et le log consistent à afficher à l'utilisateur des informations sur l'exécution du code.\n",
    "Vous pouvez ainsi afficher plusieurs informations.\n",
    "Essayer d'afficher ici le contenu de liste fournie, ainsi que des résulats interémdiaires."
   ]
  },
  {
   "cell_type": "code",
   "execution_count": null,
   "metadata": {},
   "outputs": [],
   "source": [
    "import random\n",
    "random_list = [random.randint(0, 20) for _ in range(20)]\n",
    "\n",
    "# utilisez dans la fonction la fonction print() pour afficher la liste passée en entrée de la fonction\n",
    "moyenne_liste_nombres(random_list)"
   ]
  },
  {
   "cell_type": "markdown",
   "metadata": {},
   "source": [
    "## Calcul de la moyenne d'une suite de variables\n",
    "\n",
    "Il est possible en python de passer en entrée d'une fonction un nombre indéfini de variables d'entrée, testez la fonction suivante pour qu'elle calcule la moyenne de tous les nombres passé en entrée."
   ]
  },
  {
   "cell_type": "code",
   "execution_count": null,
   "metadata": {},
   "outputs": [],
   "source": [
    "# Editez la fonction pour retourner le bon résultat\n",
    "def moyenne_list(*a):\n",
    "    print(a)"
   ]
  },
  {
   "cell_type": "code",
   "execution_count": null,
   "metadata": {},
   "outputs": [],
   "source": [
    "moyenne_list(1, 2, 3)"
   ]
  },
  {
   "cell_type": "code",
   "execution_count": null,
   "metadata": {},
   "outputs": [],
   "source": [
    "assert moyenne_list(1, 2, 3) == 2\n",
    "assert moyenne_list(2, 2, 2) == 2"
   ]
  },
  {
   "cell_type": "markdown",
   "metadata": {},
   "source": [
    "## Trouver une fonction moyenne déjà existante\n",
    "\n",
    "La plupart du temps, les fonctions de bases existent déjà dans les fonctions de base du language python.\n",
    "Essayez de trouver sur internet la fonction appropriée."
   ]
  },
  {
   "cell_type": "code",
   "execution_count": null,
   "metadata": {},
   "outputs": [],
   "source": [
    "# dans la bibliothèque python statistics existe une fonction import statistics\n",
    "\n",
    "import statistics\n",
    "import numpy"
   ]
  },
  {
   "cell_type": "code",
   "execution_count": null,
   "metadata": {},
   "outputs": [],
   "source": [
    "assert ???([1, 2, 3]) == 2\n",
    "\n",
    "test_list = [1, 2, 3]\n",
    "assert ???(test_list) == moyenne_list_nombre(test_list)"
   ]
  },
  {
   "cell_type": "code",
   "execution_count": null,
   "metadata": {},
   "outputs": [],
   "source": []
  }
 ],
 "metadata": {
  "kernelspec": {
   "display_name": "Python 3",
   "language": "python",
   "name": "python3"
  },
  "language_info": {
   "codemirror_mode": {
    "name": "ipython",
    "version": 3
   },
   "file_extension": ".py",
   "mimetype": "text/x-python",
   "name": "python",
   "nbconvert_exporter": "python",
   "pygments_lexer": "ipython3",
   "version": "3.7.3"
  }
 },
 "nbformat": 4,
 "nbformat_minor": 2
}
